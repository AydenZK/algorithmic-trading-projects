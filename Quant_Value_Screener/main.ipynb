{
 "cells": [
  {
   "cell_type": "markdown",
   "metadata": {},
   "source": [
    "# Quantitative Value Screener"
   ]
  },
  {
   "cell_type": "markdown",
   "metadata": {},
   "source": [
    "## Table of Contents"
   ]
  },
  {
   "cell_type": "markdown",
   "metadata": {},
   "source": [
    "## Project Overview\n",
    "\n",
    "Value investing refers to investing in stocks that are trading below their perceived intrinsic value.\n",
    "- This was popularised by famous investors such as Warren Buffet and Benjamin Grahim\n",
    "- Creating algorithmic value investing strategies relies on a concept called multiples.\n",
    "- Multiples are calculated by dividing a company's stock price by some measure of the company's worth\n",
    "- Some common multiples include Price-to-earnings, Price-to-book-values, Price-to-free-cash-flow\n",
    "- Composites are using various multiples as each have their pros and cons\n",
    "- This strategy will use a composite of 5 different value investing metrics\n",
    "\n",
    "This project aims to build a value investing strategy"
   ]
  },
  {
   "cell_type": "markdown",
   "metadata": {},
   "source": []
  }
 ],
 "metadata": {
  "language_info": {
   "name": "python"
  },
  "orig_nbformat": 4
 },
 "nbformat": 4,
 "nbformat_minor": 2
}
