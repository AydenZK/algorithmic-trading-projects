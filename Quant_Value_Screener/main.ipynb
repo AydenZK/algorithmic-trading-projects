{
 "cells": [
  {
   "cell_type": "markdown",
   "metadata": {},
   "source": [
    "# Quantitative Value Screener"
   ]
  },
  {
   "cell_type": "markdown",
   "metadata": {},
   "source": [
    "## Table of Contents"
   ]
  },
  {
   "cell_type": "markdown",
   "metadata": {},
   "source": [
    "## Project Overview\n",
    "\n",
    "Value investing refers to investing in stocks that are trading below their perceived intrinsic value.\n",
    "- This was popularised by famous investors such as Warren Buffet and Benjamin Grahim\n",
    "- Creating algorithmic value investing strategies relies on a concept called multiples.\n",
    "- Multiples are calculated by dividing a company's stock price by some measure of the company's worth\n",
    "- Some common multiples include Price-to-earnings, Price-to-book-values, Price-to-free-cash-flow\n",
    "- Composites are using various multiples as each have their pros and cons\n",
    "- This strategy will use a composite of 5 different value investing metrics\n",
    "\n",
    "\"Value investing\" means investing in the stocks that are cheapest relative to common measures of business value (like earnings or assets).\n",
    "\n",
    "For this project, we're going to build an investing strategy that selects the 50 stocks with the best value metrics. From there, we will calculate recommended trades for an equal-weight portfolio of these 50 stocks."
   ]
  },
  {
   "cell_type": "markdown",
   "metadata": {},
   "source": [
    "## Libraries"
   ]
  },
  {
   "cell_type": "code",
   "execution_count": null,
   "metadata": {},
   "outputs": [],
   "source": [
    "import numpy as np\n",
    "import pandas as pd\n",
    "import requests\n",
    "import math\n",
    "from scipy import stats\n",
    "from statistics import mean\n"
   ]
  },
  {
   "cell_type": "markdown",
   "metadata": {},
   "source": [
    "## Import List of Stocks\n",
    "A list of ticker symbols in the S&P 500"
   ]
  },
  {
   "cell_type": "code",
   "execution_count": null,
   "metadata": {},
   "outputs": [],
   "source": [
    "tickers = pd.read_csv(\"../data/sp_500_stocks.csv\")"
   ]
  },
  {
   "cell_type": "markdown",
   "metadata": {},
   "source": [
    "## Setting Up the API\n",
    "Connecting to the IEX Cloud API. This is the data provider that we will be using throughout these projects."
   ]
  },
  {
   "cell_type": "code",
   "execution_count": null,
   "metadata": {},
   "outputs": [],
   "source": [
    "IEX_CLOUD_API_TOKEN = 'Tpk_059b97af715d417d9f49f50b51b1c448'"
   ]
  },
  {
   "cell_type": "code",
   "execution_count": null,
   "metadata": {},
   "outputs": [],
   "source": [
    "def api_url(tick):\n",
    "    return f'https://sandbox.iexapis.com/stable/stock/{tick}/stats?token={IEX_CLOUD_API_TOKEN}'\n",
    "data = requests.get(api_url('TSLA'))\n",
    "data"
   ]
  },
  {
   "cell_type": "markdown",
   "metadata": {},
   "source": [
    "## Using Batch API Calls to improve performance"
   ]
  },
  {
   "cell_type": "code",
   "execution_count": null,
   "metadata": {},
   "outputs": [],
   "source": [
    "# Function sourced from \n",
    "# https://stackoverflow.com/questions/312443/how-do-you-split-a-list-into-evenly-sized-chunks\n",
    "def chunks(lst, n):\n",
    "    \"\"\"Yield successive n-sized chunks from lst.\"\"\"\n",
    "    for i in range(0, len(lst), n):\n",
    "        yield lst[i:i + n]   \n",
    "        \n",
    "symbol_groups = list(chunks(tickers['Ticker'], 100))\n",
    "symbol_strings = []\n",
    "for i in range(0, len(symbol_groups)):\n",
    "    symbol_strings.append(','.join(symbol_groups[i]))"
   ]
  },
  {
   "cell_type": "markdown",
   "metadata": {},
   "source": [
    "Every valuation metric has certain flaws.\n",
    "\n",
    "For example, the price-to-earnings ratio doesn't work well with stocks with negative earnings.\n",
    "\n",
    "Similarly, stocks that buyback their own shares are difficult to value using the price-to-book ratio.\n",
    "\n",
    "Investors typically use a composite basket of valuation metrics to build robust quantitative value strategies. In this section, we will filter for stocks with the lowest percentiles on the following metrics:\n",
    "\n",
    "- Price-to-earnings ratio\n",
    "- Price-to-book ratio\n",
    "- Price-to-sales ratio\n",
    "- Enterprise Value divided by Earnings Before Interest, Taxes, Depreciation, and Amortization (EV/EBITDA)\n",
    "- Enterprise Value divided by Gross Profit (EV/GP)\n",
    "\n",
    "Some of these metrics aren't provided directly by the IEX Cloud API, and must be computed after pulling raw data. We'll start by calculating each data point from scratch."
   ]
  },
  {
   "cell_type": "code",
   "execution_count": null,
   "metadata": {},
   "outputs": [],
   "source": [
    "rv_columns = [\n",
    "    'Ticker',\n",
    "    'Price',\n",
    "    'Number of Shares to Buy', \n",
    "    'Price-to-Earnings Ratio',\n",
    "    'PE Percentile',\n",
    "    'Price-to-Book Ratio',\n",
    "    'PB Percentile',\n",
    "    'Price-to-Sales Ratio',\n",
    "    'PS Percentile',\n",
    "    'EV/EBITDA',\n",
    "    'EV/EBITDA Percentile',\n",
    "    'EV/GP',\n",
    "    'EV/GP Percentile',\n",
    "    'RV Score'\n",
    "]\n",
    "\n",
    "rv_dataframe = pd.DataFrame(columns = rv_columns)\n",
    "\n",
    "for symbol_string in symbol_strings:\n",
    "    batch_api_call_url = f'https://sandbox.iexapis.com/stable/stock/market/batch?symbols={symbol_string}&types=quote,advanced-stats&token={IEX_CLOUD_API_TOKEN}'\n",
    "    data = requests.get(batch_api_call_url).json()\n",
    "    for symbol in symbol_string.split(','):\n",
    "        enterprise_value = data[symbol]['advanced-stats']['enterpriseValue']\n",
    "        ebitda = data[symbol]['advanced-stats']['EBITDA']\n",
    "        gross_profit = data[symbol]['advanced-stats']['grossProfit']\n",
    "        \n",
    "        try:\n",
    "            ev_to_ebitda = enterprise_value/ebitda\n",
    "        except TypeError:\n",
    "            ev_to_ebitda = np.NaN\n",
    "        \n",
    "        try:\n",
    "            ev_to_gross_profit = enterprise_value/gross_profit\n",
    "        except TypeError:\n",
    "            ev_to_gross_profit = np.NaN\n",
    "            \n",
    "        rv_dataframe = rv_dataframe.append(\n",
    "            pd.Series([\n",
    "                symbol,\n",
    "                data[symbol]['quote']['latestPrice'],\n",
    "                'N/A',\n",
    "                data[symbol]['quote']['peRatio'],\n",
    "                'N/A',\n",
    "                data[symbol]['advanced-stats']['priceToBook'],\n",
    "                'N/A',\n",
    "                data[symbol]['advanced-stats']['priceToSales'],\n",
    "                'N/A',\n",
    "                ev_to_ebitda,\n",
    "                'N/A',\n",
    "                ev_to_gross_profit,\n",
    "                'N/A',\n",
    "                'N/A'\n",
    "        ],\n",
    "        index = rv_columns),\n",
    "            ignore_index = True\n",
    "        )"
   ]
  },
  {
   "cell_type": "markdown",
   "metadata": {},
   "source": [
    "# Missing Data"
   ]
  },
  {
   "cell_type": "markdown",
   "metadata": {},
   "source": [
    "Imputing missing data with average data point from the column"
   ]
  },
  {
   "cell_type": "code",
   "execution_count": null,
   "metadata": {},
   "outputs": [],
   "source": [
    "for column in ['Price-to-Earnings Ratio', 'Price-to-Book Ratio','Price-to-Sales Ratio',  'EV/EBITDA','EV/GP']:\n",
    "    rv_dataframe[column].fillna(rv_dataframe[column].mean(), inplace = True)"
   ]
  },
  {
   "cell_type": "markdown",
   "metadata": {},
   "source": [
    "## Caclucating RV Score"
   ]
  },
  {
   "cell_type": "code",
   "execution_count": null,
   "metadata": {},
   "outputs": [],
   "source": [
    "metrics = {\n",
    "            'Price-to-Earnings Ratio': 'PE Percentile',\n",
    "            'Price-to-Book Ratio':'PB Percentile',\n",
    "            'Price-to-Sales Ratio': 'PS Percentile',\n",
    "            'EV/EBITDA':'EV/EBITDA Percentile',\n",
    "            'EV/GP':'EV/GP Percentile'\n",
    "}\n",
    "\n",
    "for row in rv_dataframe.index:\n",
    "    for metric in metrics.keys():\n",
    "        rv_dataframe.loc[row, metrics[metric]] = stats.percentileofscore(rv_dataframe[metric], rv_dataframe.loc[row, metric])/100\n",
    "\n",
    "# Print each percentile score to make sure it was calculated properly\n",
    "for metric in metrics.values():\n",
    "    print(rv_dataframe[metric])\n",
    "\n",
    "# We'll now calculate our RV Score (which stands for Robust Value), which is the value score that we'll use to filter for stocks in this investing strategy.\n",
    "# The RV Score will be the arithmetic mean of the 4 percentile scores that we calculated in the last section.\n",
    "for row in rv_dataframe.index:\n",
    "    value_percentiles = []\n",
    "    for metric in metrics.keys():\n",
    "        value_percentiles.append(rv_dataframe.loc[row, metrics[metric]])\n",
    "    rv_dataframe.loc[row, 'RV Score'] = mean(value_percentiles)\n",
    "    \n",
    "rv_dataframe"
   ]
  },
  {
   "cell_type": "markdown",
   "metadata": {},
   "source": [
    "# Selecting best 50 value stocks "
   ]
  },
  {
   "cell_type": "code",
   "execution_count": null,
   "metadata": {},
   "outputs": [],
   "source": [
    "rv_dataframe.sort_values(by = 'RV Score', inplace = True)\n",
    "rv_dataframe = rv_dataframe[:50]\n",
    "rv_dataframe.reset_index(drop = True, inplace = True)"
   ]
  },
  {
   "cell_type": "code",
   "execution_count": null,
   "metadata": {},
   "outputs": [],
   "source": [
    "PORTFOLIO_SIZE = 10000000\n",
    "position_size = float(PORTFOLIO_SIZE) / len(rv_dataframe.index)\n",
    "for i in range(0, len(rv_dataframe['Ticker'])-1):\n",
    "    rv_dataframe.loc[i, 'Number of Shares to Buy'] = math.floor(position_size / rv_dataframe['Price'][i])\n",
    "rv_dataframe"
   ]
  }
 ],
 "metadata": {
  "interpreter": {
   "hash": "11985149111458dfeecbde132917ce1777c8ec46976e6c8b18a85387df8e52b7"
  },
  "kernelspec": {
   "display_name": "Python 3.8.5 64-bit",
   "language": "python",
   "name": "python3"
  },
  "language_info": {
   "codemirror_mode": {
    "name": "ipython",
    "version": 3
   },
   "file_extension": ".py",
   "mimetype": "text/x-python",
   "name": "python",
   "nbconvert_exporter": "python",
   "pygments_lexer": "ipython3",
   "version": "3.8.5"
  },
  "orig_nbformat": 4
 },
 "nbformat": 4,
 "nbformat_minor": 2
}
